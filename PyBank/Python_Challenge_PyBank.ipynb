{
 "cells": [
  {
   "cell_type": "code",
   "execution_count": 27,
   "id": "8c5aa143",
   "metadata": {},
   "outputs": [],
   "source": [
    "# Import Pandas\n",
    "import pandas as pd\n",
    "import locale"
   ]
  },
  {
   "cell_type": "code",
   "execution_count": 2,
   "id": "9265fd22",
   "metadata": {},
   "outputs": [
    {
     "data": {
      "text/plain": [
       "'Resources/budget_data.csv'"
      ]
     },
     "execution_count": 2,
     "metadata": {},
     "output_type": "execute_result"
    }
   ],
   "source": [
    "# Initialize a variable to hold the file path to the PyBank csv file\n",
    "csvpath = \"Resources/budget_data.csv\"\n",
    "csvpath"
   ]
  },
  {
   "cell_type": "code",
   "execution_count": 17,
   "id": "c221c862",
   "metadata": {},
   "outputs": [
    {
     "data": {
      "text/html": [
       "<div>\n",
       "<style scoped>\n",
       "    .dataframe tbody tr th:only-of-type {\n",
       "        vertical-align: middle;\n",
       "    }\n",
       "\n",
       "    .dataframe tbody tr th {\n",
       "        vertical-align: top;\n",
       "    }\n",
       "\n",
       "    .dataframe thead th {\n",
       "        text-align: right;\n",
       "    }\n",
       "</style>\n",
       "<table border=\"1\" class=\"dataframe\">\n",
       "  <thead>\n",
       "    <tr style=\"text-align: right;\">\n",
       "      <th></th>\n",
       "      <th>Date</th>\n",
       "      <th>Profit/Losses</th>\n",
       "    </tr>\n",
       "  </thead>\n",
       "  <tbody>\n",
       "    <tr>\n",
       "      <th>0</th>\n",
       "      <td>Jan-10</td>\n",
       "      <td>1088983</td>\n",
       "    </tr>\n",
       "    <tr>\n",
       "      <th>1</th>\n",
       "      <td>Feb-10</td>\n",
       "      <td>-354534</td>\n",
       "    </tr>\n",
       "    <tr>\n",
       "      <th>2</th>\n",
       "      <td>Mar-10</td>\n",
       "      <td>276622</td>\n",
       "    </tr>\n",
       "    <tr>\n",
       "      <th>3</th>\n",
       "      <td>Apr-10</td>\n",
       "      <td>-728133</td>\n",
       "    </tr>\n",
       "    <tr>\n",
       "      <th>4</th>\n",
       "      <td>May-10</td>\n",
       "      <td>852993</td>\n",
       "    </tr>\n",
       "  </tbody>\n",
       "</table>\n",
       "</div>"
      ],
      "text/plain": [
       "     Date  Profit/Losses\n",
       "0  Jan-10        1088983\n",
       "1  Feb-10        -354534\n",
       "2  Mar-10         276622\n",
       "3  Apr-10        -728133\n",
       "4  May-10         852993"
      ]
     },
     "execution_count": 17,
     "metadata": {},
     "output_type": "execute_result"
    }
   ],
   "source": [
    "# Create a pandas dataframe from the csv data\n",
    "budget_file_df = pd.read_csv(csvpath, encoding=\"UTF-8\")\n",
    "\n",
    "#Check that the dataframe was properly created\n",
    "budget_file_df.head(5)"
   ]
  },
  {
   "cell_type": "code",
   "execution_count": 32,
   "id": "6f2ad2b2",
   "metadata": {},
   "outputs": [
    {
     "data": {
      "text/plain": [
       "86"
      ]
     },
     "execution_count": 32,
     "metadata": {},
     "output_type": "execute_result"
    }
   ],
   "source": [
    "# Count the total number of months for which there is data in the file\n",
    "total_months = budget_file_df[\"Date\"].count()\n",
    "total_months"
   ]
  },
  {
   "cell_type": "code",
   "execution_count": 5,
   "id": "74e2dad7",
   "metadata": {},
   "outputs": [
    {
     "data": {
      "text/plain": [
       "22564198"
      ]
     },
     "execution_count": 5,
     "metadata": {},
     "output_type": "execute_result"
    }
   ],
   "source": [
    "# Calculate the total net profit in the Profit/Losses column for the entire period\n",
    "net_profit = budget_file_df[\"Profit/Losses\"].sum()\n",
    "net_profit"
   ]
  },
  {
   "cell_type": "code",
   "execution_count": 19,
   "id": "4994150c",
   "metadata": {},
   "outputs": [
    {
     "data": {
      "text/html": [
       "<div>\n",
       "<style scoped>\n",
       "    .dataframe tbody tr th:only-of-type {\n",
       "        vertical-align: middle;\n",
       "    }\n",
       "\n",
       "    .dataframe tbody tr th {\n",
       "        vertical-align: top;\n",
       "    }\n",
       "\n",
       "    .dataframe thead th {\n",
       "        text-align: right;\n",
       "    }\n",
       "</style>\n",
       "<table border=\"1\" class=\"dataframe\">\n",
       "  <thead>\n",
       "    <tr style=\"text-align: right;\">\n",
       "      <th></th>\n",
       "      <th>Date</th>\n",
       "      <th>Profit/Losses</th>\n",
       "      <th>Next Month</th>\n",
       "    </tr>\n",
       "  </thead>\n",
       "  <tbody>\n",
       "    <tr>\n",
       "      <th>0</th>\n",
       "      <td>Jan-10</td>\n",
       "      <td>1088983</td>\n",
       "      <td>-354534.0</td>\n",
       "    </tr>\n",
       "    <tr>\n",
       "      <th>1</th>\n",
       "      <td>Feb-10</td>\n",
       "      <td>-354534</td>\n",
       "      <td>276622.0</td>\n",
       "    </tr>\n",
       "    <tr>\n",
       "      <th>2</th>\n",
       "      <td>Mar-10</td>\n",
       "      <td>276622</td>\n",
       "      <td>-728133.0</td>\n",
       "    </tr>\n",
       "    <tr>\n",
       "      <th>3</th>\n",
       "      <td>Apr-10</td>\n",
       "      <td>-728133</td>\n",
       "      <td>852993.0</td>\n",
       "    </tr>\n",
       "    <tr>\n",
       "      <th>4</th>\n",
       "      <td>May-10</td>\n",
       "      <td>852993</td>\n",
       "      <td>563721.0</td>\n",
       "    </tr>\n",
       "  </tbody>\n",
       "</table>\n",
       "</div>"
      ],
      "text/plain": [
       "     Date  Profit/Losses  Next Month\n",
       "0  Jan-10        1088983   -354534.0\n",
       "1  Feb-10        -354534    276622.0\n",
       "2  Mar-10         276622   -728133.0\n",
       "3  Apr-10        -728133    852993.0\n",
       "4  May-10         852993    563721.0"
      ]
     },
     "execution_count": 19,
     "metadata": {},
     "output_type": "execute_result"
    }
   ],
   "source": [
    "# Find the average month-over-month change in Profit / Losses\n",
    "# First, create a new column in the dataframe that shifts Profit/Losses up by one month to allow for ease of calculation\n",
    "budget_file_df[\"Next Month\"] = budget_file_df[\"Profit/Losses\"].shift(-1)\n",
    "budget_file_df.head()"
   ]
  },
  {
   "cell_type": "code",
   "execution_count": 20,
   "id": "3ab5f478",
   "metadata": {},
   "outputs": [
    {
     "data": {
      "text/html": [
       "<div>\n",
       "<style scoped>\n",
       "    .dataframe tbody tr th:only-of-type {\n",
       "        vertical-align: middle;\n",
       "    }\n",
       "\n",
       "    .dataframe tbody tr th {\n",
       "        vertical-align: top;\n",
       "    }\n",
       "\n",
       "    .dataframe thead th {\n",
       "        text-align: right;\n",
       "    }\n",
       "</style>\n",
       "<table border=\"1\" class=\"dataframe\">\n",
       "  <thead>\n",
       "    <tr style=\"text-align: right;\">\n",
       "      <th></th>\n",
       "      <th>Date</th>\n",
       "      <th>Profit/Losses</th>\n",
       "      <th>Next Month</th>\n",
       "      <th>Delta</th>\n",
       "    </tr>\n",
       "  </thead>\n",
       "  <tbody>\n",
       "    <tr>\n",
       "      <th>0</th>\n",
       "      <td>Jan-10</td>\n",
       "      <td>1088983</td>\n",
       "      <td>-354534.0</td>\n",
       "      <td>-1443517.0</td>\n",
       "    </tr>\n",
       "    <tr>\n",
       "      <th>1</th>\n",
       "      <td>Feb-10</td>\n",
       "      <td>-354534</td>\n",
       "      <td>276622.0</td>\n",
       "      <td>631156.0</td>\n",
       "    </tr>\n",
       "    <tr>\n",
       "      <th>2</th>\n",
       "      <td>Mar-10</td>\n",
       "      <td>276622</td>\n",
       "      <td>-728133.0</td>\n",
       "      <td>-1004755.0</td>\n",
       "    </tr>\n",
       "    <tr>\n",
       "      <th>3</th>\n",
       "      <td>Apr-10</td>\n",
       "      <td>-728133</td>\n",
       "      <td>852993.0</td>\n",
       "      <td>1581126.0</td>\n",
       "    </tr>\n",
       "    <tr>\n",
       "      <th>4</th>\n",
       "      <td>May-10</td>\n",
       "      <td>852993</td>\n",
       "      <td>563721.0</td>\n",
       "      <td>-289272.0</td>\n",
       "    </tr>\n",
       "  </tbody>\n",
       "</table>\n",
       "</div>"
      ],
      "text/plain": [
       "     Date  Profit/Losses  Next Month      Delta\n",
       "0  Jan-10        1088983   -354534.0 -1443517.0\n",
       "1  Feb-10        -354534    276622.0   631156.0\n",
       "2  Mar-10         276622   -728133.0 -1004755.0\n",
       "3  Apr-10        -728133    852993.0  1581126.0\n",
       "4  May-10         852993    563721.0  -289272.0"
      ]
     },
     "execution_count": 20,
     "metadata": {},
     "output_type": "execute_result"
    }
   ],
   "source": [
    "# Create another column that calculates the month-over-month change in Profit/Losses holds the change\n",
    "budget_file_df[\"Delta\"] = budget_file_df[\"Next Month\"] - budget_file_df[\"Profit/Losses\"]\n",
    "budget_file_df.head()"
   ]
  },
  {
   "cell_type": "code",
   "execution_count": 23,
   "id": "df23fa79",
   "metadata": {},
   "outputs": [
    {
     "data": {
      "text/plain": [
       "-8311.105882352942"
      ]
     },
     "execution_count": 23,
     "metadata": {},
     "output_type": "execute_result"
    }
   ],
   "source": [
    "# Find the average change, or \"Delta\"\n",
    "average = budget_file_df[\"Delta\"].mean()\n",
    "average"
   ]
  },
  {
   "cell_type": "code",
   "execution_count": 24,
   "id": "60a7b4ee",
   "metadata": {
    "scrolled": true
   },
   "outputs": [
    {
     "data": {
      "text/plain": [
       "1862002.0"
      ]
     },
     "execution_count": 24,
     "metadata": {},
     "output_type": "execute_result"
    }
   ],
   "source": [
    "# Find the greatest increase between months in \"Profit/Losses\"\n",
    "increase = budget_file_df[\"Delta\"].max()\n",
    "increase"
   ]
  },
  {
   "cell_type": "code",
   "execution_count": 25,
   "id": "05e7b1d7",
   "metadata": {},
   "outputs": [
    {
     "data": {
      "text/plain": [
       "-1825558.0"
      ]
     },
     "execution_count": 25,
     "metadata": {},
     "output_type": "execute_result"
    }
   ],
   "source": [
    "# Find the greatest decrease between months in \"Profit/Losses\"\n",
    "decrease = budget_file_df[\"Delta\"].min()\n",
    "decrease"
   ]
  },
  {
   "cell_type": "code",
   "execution_count": 34,
   "id": "0bbc453d",
   "metadata": {},
   "outputs": [
    {
     "data": {
      "text/html": [
       "<div>\n",
       "<style scoped>\n",
       "    .dataframe tbody tr th:only-of-type {\n",
       "        vertical-align: middle;\n",
       "    }\n",
       "\n",
       "    .dataframe tbody tr th {\n",
       "        vertical-align: top;\n",
       "    }\n",
       "\n",
       "    .dataframe thead th {\n",
       "        text-align: right;\n",
       "    }\n",
       "</style>\n",
       "<table border=\"1\" class=\"dataframe\">\n",
       "  <thead>\n",
       "    <tr style=\"text-align: right;\">\n",
       "      <th></th>\n",
       "      <th>Amount</th>\n",
       "    </tr>\n",
       "    <tr>\n",
       "      <th>Summary</th>\n",
       "      <th></th>\n",
       "    </tr>\n",
       "  </thead>\n",
       "  <tbody>\n",
       "    <tr>\n",
       "      <th>Total Months</th>\n",
       "      <td>$86.00</td>\n",
       "    </tr>\n",
       "    <tr>\n",
       "      <th>Total Net Profit</th>\n",
       "      <td>$22,564,198.00</td>\n",
       "    </tr>\n",
       "    <tr>\n",
       "      <th>Average Monthly Change</th>\n",
       "      <td>-$8,311.11</td>\n",
       "    </tr>\n",
       "    <tr>\n",
       "      <th>Greatest MoM Increase in Profits</th>\n",
       "      <td>$1,862,002.00</td>\n",
       "    </tr>\n",
       "    <tr>\n",
       "      <th>Greatest MoM Decrease in Profits</th>\n",
       "      <td>-$1,825,558.00</td>\n",
       "    </tr>\n",
       "  </tbody>\n",
       "</table>\n",
       "</div>"
      ],
      "text/plain": [
       "                                          Amount\n",
       "Summary                                         \n",
       "Total Months                              $86.00\n",
       "Total Net Profit                  $22,564,198.00\n",
       "Average Monthly Change                -$8,311.11\n",
       "Greatest MoM Increase in Profits   $1,862,002.00\n",
       "Greatest MoM Decrease in Profits  -$1,825,558.00"
      ]
     },
     "execution_count": 34,
     "metadata": {},
     "output_type": "execute_result"
    }
   ],
   "source": [
    "# Create a new summary dataframe that holds and displays the summary information about the PyBank budget file\n",
    "Summary_df = pd.DataFrame({\"Summary\":\n",
    "              [\"Total Months\", \"Total Net Profit\", \n",
    "               \"Average Monthly Change\", \n",
    "               \"Greatest MoM Increase in Profits\", \n",
    "               \"Greatest MoM Decrease in Profits\"], \n",
    "              \"Amount\": \n",
    "              [total_months,\n",
    "               net_profit, average, \n",
    "               increase, \n",
    "              decrease]})\n",
    "\n",
    "# Set the index\n",
    "Summary_df.set_index(\"Summary\", inplace=True)\n",
    "\n",
    "# Set the locale to US to be able to format data as USD\n",
    "locale.setlocale(locale.LC_ALL, \"en_US.UTF-8\")\n",
    "\n",
    "# Apply the local to the Amount column to format it as USD\n",
    "Summary_df[\"Amount\"] = Summary_df.apply(lambda row: \n",
    "                                        locale.currency(row[\"Amount\"], grouping=True) \n",
    "                 if row.name != 1 else row[\"Amount\"], axis=1)\n",
    "\n",
    "Summary_df"
   ]
  },
  {
   "cell_type": "code",
   "execution_count": 35,
   "id": "5fd31dae",
   "metadata": {},
   "outputs": [
    {
     "ename": "SyntaxError",
     "evalue": "cannot assign to function call (2062212593.py, line 7)",
     "output_type": "error",
     "traceback": [
      "\u001b[0;36m  Cell \u001b[0;32mIn[35], line 7\u001b[0;36m\u001b[0m\n\u001b[0;31m    Summary_df.to_csv(file_path), index=False, encoding=\"en_US.UTF-8\")\u001b[0m\n\u001b[0m    ^\u001b[0m\n\u001b[0;31mSyntaxError\u001b[0m\u001b[0;31m:\u001b[0m cannot assign to function call\n"
     ]
    }
   ],
   "source": [
    "# Export this table as a text file\n",
    "\n",
    "# First set the file path\n",
    "file_path = \"summary.csv\"\n",
    "\n",
    "# Export the summary dataframe to this file\n",
    "Summary_df.to_csv(file_path), index=False, encoding=\"en_US.UTF-8\")\n",
    "\n"
   ]
  }
 ],
 "metadata": {
  "kernelspec": {
   "display_name": "Python 3 (ipykernel)",
   "language": "python",
   "name": "python3"
  },
  "language_info": {
   "codemirror_mode": {
    "name": "ipython",
    "version": 3
   },
   "file_extension": ".py",
   "mimetype": "text/x-python",
   "name": "python",
   "nbconvert_exporter": "python",
   "pygments_lexer": "ipython3",
   "version": "3.9.18"
  }
 },
 "nbformat": 4,
 "nbformat_minor": 5
}
